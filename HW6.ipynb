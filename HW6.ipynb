{
 "cells": [
  {
   "cell_type": "markdown",
   "metadata": {},
   "source": [
    "by Yigao Li  \n",
    "# Part (a)\n",
    "$$\\begin{aligned}\n",
    "s(g(f(\\tilde{\\beta})))&=s(g(X\\tilde{\\beta}))\\\\\n",
    "&=s\\begin{pmatrix}-loglogit(y_1\\tilde{\\bf{x}}^{(1)T}) \\\\ -loglogit(y_2\\tilde{\\bf{x}}^{(2)T}) \\\\ \\vdots \\\\ -loglogit(y_N\\tilde{\\bf{x}}^{(N)T}) \\end{pmatrix}\\\\\n",
    "&=-\\sum_{i=1}^Nloglogit(y_i\\tilde{\\bf{x}}^{(i)T})=\\ell(\\tilde{\\beta})\\\\\n",
    "\\end{aligned}$$\n",
    "# Part (b)\n",
    "$$\\begin{aligned}\n",
    "\\nabla\\ell(\\tilde{\\beta})&=\\nabla s\\circ(g\\circ f)(\\tilde{\\beta})\\\\\n",
    "&=D(g\\circ f)(\\tilde{\\beta})^T\\nabla s(g\\circ f)(\\tilde{\\beta})\\\\\n",
    "&=(Dg(f(\\tilde{\\beta})Df(\\tilde{\\beta}))^T{\\bf 1}_N\\\\\n",
    "&=Df(\\tilde{\\beta})^TDg(f(\\tilde{\\beta})^T{\\bf 1}_N\\\\\n",
    "&=X^T\\begin{pmatrix} \\nabla g_1 && \\nabla g_2 && \\dots && \\nabla g_N \\end{pmatrix}{\\bf 1}_N\n",
    "\\end{aligned}$$\n",
    "$$\\begin{aligned}\n",
    "\\text{Note that }g_i'(q_i)&=\\frac d{dq_i}(-loglogit(y_iq_i))\\\\\n",
    "&=-\\frac1{logit(y_iq_i)}logit(y_iq_i)(1-logit(y_iq_i))y_i\\\\\n",
    "&=-y_ilogit(-y_iq_i)\n",
    "\\end{aligned}$$\n",
    "$$\n",
    "\\text{Thus, }Dg(f(\\tilde{\\beta})^T{\\bf 1}_N=h(f(\\tilde{\\beta}))\\\\\n",
    "\\text{Therefore, }\\nabla\\ell(\\tilde{\\beta})=X^Th(f(\\tilde{\\beta}))\\\\\n",
    "$$\n",
    "# Part (c)\n",
    "$$\\begin{aligned}\n",
    "\\nabla^2\\ell(\\tilde{\\beta})&=X^TD(h\\circ f(\\tilde{\\beta}))\\\\\n",
    "&=X^TDh(f(\\tilde{\\beta}))Df(\\tilde{beta})\\\\\n",
    "&=X^TDh(f(\\tilde{\\beta}))X\\\\\n",
    "\\end{aligned}$$\n",
    "$$\n",
    "\\text{Note that }h'(q_i)=y_i^2logit(-y_iq_i)logit(y_iq_i)\n",
    "$$\n",
    "Thus, $\\nabla^2\\ell(\\tilde{\\beta})$  \n",
    "$=X^T\\begin{pmatrix} y_1^2logit(-y_1q_1)logit(y_1q_1) && 0 && \\dots && 0 \\\\ 0 && y_2^2logit(-y_2q_2)logit(y_2q_2) && \\dots && 0 \\\\ \\vdots && \\vdots && \\ddots && \\vdots \\\\ 0 && 0 && \\dots && y_N^2logit(-y_Nq_N)logit(y_Nq_N) \\end{pmatrix}X$  \n",
    "$=X^Tdiag(G(f(\\tilde{\\beta})))X$\n",
    "$$\\text{where }G({\\bf q})=\\begin{pmatrix} y_1^2logit(-y_1q_1)logit(y_1q_1) \\\\ y_2^2logit(-y_2q_2)logit(y_2q_2) \\\\ \\vdots \\\\ y_N^2logit(-y_Nq_N)logit(y_Nq_N) \\end{pmatrix}$$  \n",
    "# Part (d)  \n",
    "Because $\\ell(\\tilde{\\beta})$ is a convex function, its Hessian matrix is positive semidefinite.  \n",
    "# Part (e)  \n",
    "Hessian matrix is always positive definite when none of the diagonal entries in $diag(G(f(\\tilde{\\beta})))$ is $0$.  \n",
    "# Part (f)  \n",
    "$\\ell(\\tilde{\\beta})$ has a minimum value to have a linear function with least error.  "
   ]
  }
 ],
 "metadata": {
  "kernelspec": {
   "display_name": "Python 3",
   "language": "python",
   "name": "python3"
  },
  "language_info": {
   "codemirror_mode": {
    "name": "ipython",
    "version": 3
   },
   "file_extension": ".py",
   "mimetype": "text/x-python",
   "name": "python",
   "nbconvert_exporter": "python",
   "pygments_lexer": "ipython3",
   "version": "3.6.1"
  }
 },
 "nbformat": 4,
 "nbformat_minor": 2
}
